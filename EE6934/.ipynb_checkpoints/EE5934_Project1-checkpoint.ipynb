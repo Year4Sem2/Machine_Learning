{
 "cells": [
  {
   "cell_type": "markdown",
   "metadata": {
    "id": "y2osEUslUGkv"
   },
   "source": [
    "# EE5934 Deep Learning Project 1\n",
    "\n",
    "In this project, you are going to explore Deep Learning and Neural Networks by completing the following three tasks:\n",
    "\n",
    "* Task 1. Network Exploration (30%)\n",
    "* Task 2. Model Interpretation (30%)\n",
    "* Task 3. Adversarial Attack (40%)\n",
    "\n",
    "Before doing the project, please read the instructions carefully (failure to do so will be penalized):\n",
    "\n",
    "1. Implement your codes **within** \"TODO\" and \"END OF YOUR CODE\", do **NOT** modify any codes outside the answer area;\n",
    "2. Make sure your codes **clean**, **easily readable** (add meaningful comments if needed), and **runnable**;\n",
    "3. Write your answers in the given markdown cells, keep your answers clear and concise;\n",
    "4. Do submit your project to \"Files/Project 1/Submissions\" on [LumiNUS](https://luminus.nus.edu.sg/) before the deadline: **5:59 pm (SGT), 6 March, 2022**;\n",
    "5. This is an individual project, do **NOT** share your solutions with others, we have zero tolerance for cheating.\n",
    "\n",
    "If you have any questions regarding this project, please feel free to contact Wu Zhangjie (zhangjiewu@u.nus.edu). "
   ]
  },
  {
   "cell_type": "markdown",
   "metadata": {
    "id": "XyJICDR5tkuj"
   },
   "source": [
    "## Preparation"
   ]
  },
  {
   "cell_type": "markdown",
   "metadata": {},
   "source": [
    "### Loading packages\n",
    "\n",
    "Please install the packages listed below if you haven't done so. To avoid unnecessary trouble while reproducing your code, please install the required [PyTorch](https://pytorch.org/) version."
   ]
  },
  {
   "cell_type": "code",
   "execution_count": 24,
   "metadata": {
    "colab": {
     "base_uri": "https://localhost:8080/"
    },
    "executionInfo": {
     "elapsed": 649,
     "status": "ok",
     "timestamp": 1643114735692,
     "user": {
      "displayName": "Zhangjie Wu",
      "photoUrl": "https://lh3.googleusercontent.com/a/default-user=s64",
      "userId": "01242795707158007374"
     },
     "user_tz": -480
    },
    "id": "LNFcTvFWg1L1",
    "outputId": "f333d8fd-7b47-4870-d7ee-e3a4a0df614b"
   },
   "outputs": [],
   "source": [
    "import os\n",
    "import time\n",
    "import copy\n",
    "import numpy as np\n",
    "import matplotlib.pyplot as plt\n",
    "\n",
    "import matplotlib.cm as mpl_color_map\n",
    "from PIL import Image\n",
    "from random import randint\n",
    "\n",
    "import torch\n",
    "import torch.nn.functional as F\n",
    "import torch.optim as optim\n",
    "import torchvision\n",
    "\n",
    "#assert torch.__version__ == '1.9.0', 'Please reinstall pytorch to 1.9.0.'\n",
    "#assert torchvision.__version__ == '0.10.0', 'Please reinstall torchvision to 0.10.0.'"
   ]
  },
  {
   "cell_type": "code",
   "execution_count": 25,
   "metadata": {},
   "outputs": [],
   "source": [
    "import torch.nn as nn"
   ]
  },
  {
   "cell_type": "code",
   "execution_count": 26,
   "metadata": {},
   "outputs": [
    {
     "name": "stdout",
     "output_type": "stream",
     "text": [
      "1.9.0+cu111\n",
      "0.10.0+cu111\n"
     ]
    }
   ],
   "source": [
    "print(torch.__version__)\n",
    "print(torchvision.__version__)"
   ]
  },
  {
   "cell_type": "markdown",
   "metadata": {
    "id": "Owj6jKvWraFJ"
   },
   "source": [
    "### Checking the Running Device\n",
    "\n",
    "It is recommended to run this notebook on GPUs since that would be a much faster way to train and evaluate the model. If you have difficulties accessing GPUs with your machine, you can choose to use the free GPUs provided by [Google Colab](https://colab.research.google.com/)."
   ]
  },
  {
   "cell_type": "code",
   "execution_count": 3,
   "metadata": {
    "colab": {
     "base_uri": "https://localhost:8080/"
    },
    "executionInfo": {
     "elapsed": 4,
     "status": "ok",
     "timestamp": 1643112643785,
     "user": {
      "displayName": "Zhangjie Wu",
      "photoUrl": "https://lh3.googleusercontent.com/a/default-user=s64",
      "userId": "01242795707158007374"
     },
     "user_tz": -480
    },
    "id": "CLovzR7Lk49o",
    "outputId": "198b970c-6f05-4926-ec38-b8972ede8a87"
   },
   "outputs": [
    {
     "name": "stdout",
     "output_type": "stream",
     "text": [
      "cuda:0\n"
     ]
    }
   ],
   "source": [
    "if torch.cuda.is_available():\n",
    "  device = 'cuda:0'\n",
    "else:\n",
    "  device = 'cpu'\n",
    "print(device)"
   ]
  },
  {
   "cell_type": "markdown",
   "metadata": {
    "id": "Fb12tK49rDia"
   },
   "source": [
    "### Getting the CIFAR-10 Dataset"
   ]
  },
  {
   "cell_type": "code",
   "execution_count": 4,
   "metadata": {
    "colab": {
     "base_uri": "https://localhost:8080/"
    },
    "executionInfo": {
     "elapsed": 11176,
     "status": "ok",
     "timestamp": 1643112658708,
     "user": {
      "displayName": "Zhangjie Wu",
      "photoUrl": "https://lh3.googleusercontent.com/a/default-user=s64",
      "userId": "01242795707158007374"
     },
     "user_tz": -480
    },
    "id": "EIT2XbCfp2iv",
    "outputId": "0b5b2f01-0971-411a-c16f-34f04d0815ca"
   },
   "outputs": [
    {
     "name": "stdout",
     "output_type": "stream",
     "text": [
      "Files already downloaded and verified\n",
      "Files already downloaded and verified\n"
     ]
    }
   ],
   "source": [
    "CIFAR_CLASSES = ['Airplane', 'Automobile', 'Bird', 'Cat', 'Deer', 'Dog', 'Frog', 'Horse', 'Ship', 'Truck']\n",
    "CIFAR_MEAN, CIFAR_STD = np.array([0.4914, 0.4822, 0.4465]), np.array([0.247, 0.243, 0.261])\n",
    "\n",
    "# Convert image to pytroch tensor and normalize\n",
    "transform = torchvision.transforms.Compose([\n",
    "    torchvision.transforms.ToTensor(),\n",
    "    torchvision.transforms.Normalize(mean=CIFAR_MEAN.tolist(), std=CIFAR_STD.tolist())\n",
    "])\n",
    "\n",
    "# Inverse operation to regain original image\n",
    "inverse_transform = torchvision.transforms.Compose([ \n",
    "    torchvision.transforms.Normalize(mean=[0, 0, 0], std=(1 / CIFAR_STD).tolist()),\n",
    "    torchvision.transforms.Normalize(mean=(-CIFAR_MEAN).tolist(), std=[1, 1, 1]),\n",
    "    torchvision.transforms.ToPILImage()\n",
    "])\n",
    "\n",
    "# Load dataset\n",
    "train_set = torchvision.datasets.CIFAR10(root=\"data\", train=True, download=True, transform=transform)\n",
    "train_size = len(train_set)\n",
    "test_set = torchvision.datasets.CIFAR10(root=\"data\", train=False, download=True, transform=transform)\n",
    "test_size = len(test_set)"
   ]
  },
  {
   "cell_type": "markdown",
   "metadata": {},
   "source": [
    "### Helper Fuctions"
   ]
  },
  {
   "cell_type": "code",
   "execution_count": 5,
   "metadata": {},
   "outputs": [],
   "source": [
    "def show_prob_cifar(image, label, p):\n",
    "    \"\"\"\n",
    "        Show image and prediction probability for CIFAR-10 dataset.\n",
    "    Args:\n",
    "    Inputs\n",
    "        image (Tensor): Input image\n",
    "        label (int): The ground truth label of input image\n",
    "        p (Tensor): Class probability of input image\n",
    "    \n",
    "    \"\"\"\n",
    "\n",
    "    ft = 10\n",
    "    width = 0.9\n",
    "    col = 'blue'\n",
    "\n",
    "    p=p.cpu().data.squeeze().numpy()\n",
    "    y_pos = np.arange(len(p))\n",
    "    fig = plt.figure(figsize=(5, 5))\n",
    "\n",
    "    # Plot image\n",
    "    ax1 = plt.subplot(2, 1, 1)\n",
    "    ax1.imshow(image)\n",
    "    ax1.set_axis_off()\n",
    "    ax1.set_title('Ground Truth: ' + CIFAR_CLASSES[label])\n",
    "\n",
    "    # Plot probability\n",
    "    ax2 = plt.subplot(2, 1, 2)\n",
    "    ax2.barh(y_pos, p*0.1, width , align='center', color=col)\n",
    "    ax2.set_yticks(y_pos)\n",
    "    ax2.set_yticklabels(CIFAR_CLASSES, fontsize=ft)\n",
    "    ax2.invert_yaxis()  \n",
    "    ax2.set_xticklabels([])\n",
    "    ax2.set_xticks([])\n",
    "    ax2.spines['right'].set_visible(False)\n",
    "    ax2.spines['top'].set_visible(False)\n",
    "    ax2.spines['bottom'].set_visible(False)\n",
    "    ax2.spines['left'].set_linewidth(4)\n",
    "    for i in range(len(p)):\n",
    "        str_nb=\"{0:.2f}\".format(p[i])\n",
    "        ax2.text(p[i]*0.1 + 0.001, y_pos[i] ,str_nb ,\n",
    "                 horizontalalignment='left', verticalalignment='center',\n",
    "                 transform=ax2.transData, color= col,fontsize=ft)\n",
    "\n",
    "    plt.show()\n",
    "\n",
    "\n",
    "def apply_colormap_on_image(org_im, activation, colormap_name):\n",
    "    \"\"\"\n",
    "        Apply heatmap on image\n",
    "    Args:\n",
    "        org_img (PIL img): Original image\n",
    "        activation_map (numpy arr): Activation map (grayscale) 0-255\n",
    "        colormap_name (str): Name of the colormap\n",
    "    \"\"\"\n",
    "    # Get colormap\n",
    "    color_map = mpl_color_map.get_cmap(colormap_name)\n",
    "    no_trans_heatmap = color_map(activation)\n",
    "    # Change alpha channel in colormap to make sure original image is displayed\n",
    "    heatmap = copy.copy(no_trans_heatmap)\n",
    "    heatmap[:, :, 3] = 0.4\n",
    "    heatmap = Image.fromarray((heatmap*255).astype(np.uint8))\n",
    "    no_trans_heatmap = Image.fromarray((no_trans_heatmap*255).astype(np.uint8))\n",
    "\n",
    "    # Apply heatmap on iamge\n",
    "    heatmap_on_image = Image.new(\"RGBA\", org_im.size)\n",
    "    heatmap_on_image = Image.alpha_composite(heatmap_on_image, org_im.convert('RGBA'))\n",
    "    heatmap_on_image = Image.alpha_composite(heatmap_on_image, heatmap)\n",
    "    return no_trans_heatmap, heatmap_on_image"
   ]
  },
  {
   "cell_type": "markdown",
   "metadata": {
    "id": "UzXv8qM1rPlc"
   },
   "source": [
    "## Task 1: Network Exploration\n",
    "\n",
    "In this task, you are expected to build a convolutional neural network (CNN) for solving a problem of image recognition and explore strategies that could further strengthen its performance.  "
   ]
  },
  {
   "cell_type": "markdown",
   "metadata": {},
   "source": [
    "### Defining the Model\n",
    "\n",
    "In deep learning, a Convolutional Neural Network (CNN, or ConvNet) is one of the most famous deep learning models that have been widely used in the field of computer vision. A simple CNN often consists of three main types of layers:\n",
    "- **Convolutional Layer**, the core building block that takes over the most of computational burdens, contains a set of filters (or kernels) with learnable parameters while training. It receives as input an image (or a feature map), and computes its output volume by stacking the activation maps convolved by every filter along the depth dimension. \n",
    "- **Pooling Layer** is commonly inserted in-between successive Conv layers in a CNN architecture. Its function is to progressively reduce the spatial size of the representation to reduce the amount of parameters and computation in the network, and hence to also control overfitting. \n",
    "- **Fully Connected Layer** have fully connections to all activations in the previous layer and is usually placed before the output layer to form the last few layers of a CNN Architecture.\n",
    "\n",
    "If you are not familiar with CNN architectures, [this blog](https://towardsdatascience.com/a-comprehensive-guide-to-convolutional-neural-networks-the-eli5-way-3bd2b1164a53) may help you get a better understanding of the mechanism of each layer."
   ]
  },
  {
   "cell_type": "markdown",
   "metadata": {},
   "source": [
    "Define a naive CNN stacked by the layers mentioned above. While doing so, please follow the TODOs provided below. (Refer to [torch.nn](https://pytorch.org/docs/stable/nn.html) for detailed instructions of building basic blocks with PyTorch.)"
   ]
  },
  {
   "cell_type": "code",
   "execution_count": 6,
   "metadata": {
    "executionInfo": {
     "elapsed": 437,
     "status": "ok",
     "timestamp": 1643112661747,
     "user": {
      "displayName": "Zhangjie Wu",
      "photoUrl": "https://lh3.googleusercontent.com/a/default-user=s64",
      "userId": "01242795707158007374"
     },
     "user_tz": -480
    },
    "id": "LVv2SxOihl6K"
   },
   "outputs": [
    {
     "name": "stdout",
     "output_type": "stream",
     "text": [
      "ConvNet(\n",
      "  (conv1): Conv2d(3, 64, kernel_size=(3, 3), stride=(1, 1), padding=(1, 1))\n",
      "  (pool): MaxPool2d(kernel_size=2, stride=2, padding=0, dilation=1, ceil_mode=False)\n",
      "  (conv2): Conv2d(64, 128, kernel_size=(3, 3), stride=(1, 1), padding=(1, 1))\n",
      "  (conv3): Conv2d(128, 256, kernel_size=(3, 3), stride=(1, 1), padding=(1, 1))\n",
      "  (conv4): Conv2d(256, 512, kernel_size=(3, 3), stride=(1, 1), padding=(1, 1))\n",
      "  (fc1): Linear(in_features=2048, out_features=2048, bias=True)\n",
      "  (fc2): Linear(in_features=2048, out_features=4096, bias=True)\n",
      "  (fc3): Linear(in_features=4096, out_features=4096, bias=True)\n",
      "  (fc4): Linear(in_features=4096, out_features=10, bias=True)\n",
      ")\n"
     ]
    }
   ],
   "source": [
    "class ConvNet(torch.nn.Module):\n",
    "    def __init__(self):\n",
    "        super(ConvNet, self).__init__()\n",
    "        \n",
    "        ##############################################################################\n",
    "        # TODO: Define a simple CNN contraining Conv, Pooling, and FC layers.        #\n",
    "        ##############################################################################\n",
    "        \n",
    "        # Block 1:         3 x 32 x 32 --> 64 x 16 x 16        \n",
    "        self.conv1 = nn.Conv2d(3, 64, 3, stride=1, padding=1)\n",
    "        self.pool = nn.MaxPool2d(2, 2)\n",
    "        # Block 2:         64 x 16 x 16 --> 128 x 8 x 8\n",
    "        self.conv2 = nn.Conv2d(64, 128, 3, stride=1, padding=1)\n",
    "        # Block 3:         128 x 8 x 8 --> 256 x 4 x 4        \n",
    "        self.conv3 = nn.Conv2d(128, 256, 3, stride=1, padding=1)\n",
    "        # Block 4:          256 x 4 x 4 --> 512 x 2 x 2\n",
    "        self.conv4 = nn.Conv2d(256, 512, 3, stride=1, padding=1)\n",
    "        # Linear layers:   512 x 2 x 2 --> 2048 --> 4096 --> 4096 --> 10\n",
    "        self.fc1 = nn.Linear(512 * 2 * 2, 2048)\n",
    "        self.fc2 = nn.Linear(2048, 4096)\n",
    "        self.fc3 = nn.Linear(4096, 4096)\n",
    "        self.fc4 = nn.Linear(4096, 10)\n",
    "        ##############################################################################\n",
    "        #                             END OF YOUR CODE                               #\n",
    "        ##############################################################################\n",
    "\n",
    "    def forward(self, x):\n",
    "        \n",
    "        ##############################################################################\n",
    "        # TODO: Implement forward path turning an input image to class probability.  #\n",
    "        # For activation function, please use ReLU.                                  #\n",
    "        ##############################################################################\n",
    "\n",
    "        # Block 1:         3 x 32 x 32 --> 64 x 16 x 16\n",
    "        x = self.pool(F.relu(self.conv1(x)))\n",
    "        # Block 2:         64 x 16 x 16 --> 128 x 8 x 8\n",
    "        x = self.pool(F.relu(self.conv2(x)))\n",
    "        # Block 3:         128 x 8 x 8 --> 256 x 4 x 4\n",
    "        x = self.pool(F.relu(self.conv3(x)))\n",
    "        # Block 4:         256 x 4 x 4 --> 512 x 2 x 2\n",
    "        x = self.conv4(x)\n",
    "        \n",
    "        x = self.pool(F.relu(x))\n",
    "        # Linear layers:   512 x 2 x 2 --> 2048 --> 4096 --> 4096 --> 10\n",
    "        x = x.view(-1, 512 * 2 * 2)\n",
    "        x = F.relu(self.fc1(x))\n",
    "        x = F.relu(self.fc2(x))\n",
    "        x = F.relu(self.fc3(x))\n",
    "        x = self.fc4(x)\n",
    "        ##############################################################################\n",
    "        #                             END OF YOUR CODE                               #\n",
    "        ##############################################################################\n",
    "        \n",
    "        return x\n",
    "\n",
    "model = ConvNet()\n",
    "model.to(device)\n",
    "print(model)"
   ]
  },
  {
   "cell_type": "markdown",
   "metadata": {
    "id": "CT0GtJL3Ag-I"
   },
   "source": [
    "### Training the Model\n",
    "\n",
    "Some default settings for training. "
   ]
  },
  {
   "cell_type": "code",
   "execution_count": 7,
   "metadata": {},
   "outputs": [],
   "source": [
    "# Hyperparameters\n",
    "epochs = 20\n",
    "batch_size = 128\n",
    "learning_rate = 0.25\n",
    "\n",
    "# Set up optimizer\n",
    "optimizer = optim.SGD(model.parameters(), lr=learning_rate)\n",
    "# Define loss function\n",
    "criterion = torch.nn.CrossEntropyLoss()\n",
    "# Build data loaders\n",
    "train_loader = torch.utils.data.DataLoader(train_set, batch_size=batch_size, shuffle=True, num_workers=1)\n",
    "test_loader = torch.utils.data.DataLoader(test_set, batch_size=batch_size, shuffle=False, num_workers=1)\n",
    "data_loaders = {\"train\": train_loader, \"test\": test_loader}\n",
    "dataset_sizes = {\"train\": train_size, \"test\": test_size}"
   ]
  },
  {
   "cell_type": "markdown",
   "metadata": {},
   "source": [
    "Here, your job is to implement two functions for training and testing model."
   ]
  },
  {
   "cell_type": "code",
   "execution_count": 8,
   "metadata": {
    "executionInfo": {
     "elapsed": 389,
     "status": "ok",
     "timestamp": 1643108238007,
     "user": {
      "displayName": "Zhangjie Wu",
      "photoUrl": "https://lh3.googleusercontent.com/a/default-user=s64",
      "userId": "01242795707158007374"
     },
     "user_tz": -480
    },
    "id": "i8ERy2xSuygX"
   },
   "outputs": [],
   "source": [
    "def eval_on_test_set(model):\n",
    "    model.eval()\n",
    "    running_error = 0\n",
    "\n",
    "    for data in test_loader:\n",
    "        pass\n",
    "        ##############################################################################\n",
    "        # TODO: Implement the evaluation process on test set.                        #\n",
    "        ##############################################################################\n",
    "\n",
    "        # Load inputs and labels and deploy to running device\n",
    "        data[0] = data[0].to(device)\n",
    "        data[1] = data[1].to(device)\n",
    "        # Forward batch data through the net\n",
    "        outputs = model(data[0])\n",
    "        # Compute the error made on this batch and add it to the running error\n",
    "        _, predicted = torch.max(outputs, 1)\n",
    "        running_error += (predicted != data[1]).sum().item()\n",
    "        ##############################################################################\n",
    "        #                             END OF YOUR CODE                               #\n",
    "        ##############################################################################\n",
    "        \n",
    "    total_error = running_error / test_size\n",
    "    print('error rate on test set = {:.2f}%'.format(total_error * 100))\n",
    "    model.train()"
   ]
  },
  {
   "cell_type": "code",
   "execution_count": 9,
   "metadata": {
    "colab": {
     "base_uri": "https://localhost:8080/"
    },
    "executionInfo": {
     "elapsed": 350154,
     "status": "ok",
     "timestamp": 1643108590579,
     "user": {
      "displayName": "Zhangjie Wu",
      "photoUrl": "https://lh3.googleusercontent.com/a/default-user=s64",
      "userId": "01242795707158007374"
     },
     "user_tz": -480
    },
    "id": "iL3QYrp7u1V4",
    "outputId": "da0b7abf-d03f-448b-a452-ba7d020e7604"
   },
   "outputs": [],
   "source": [
    "def train_net(model):\n",
    "    start=time.time()\n",
    "    model.train()\n",
    "\n",
    "    for epoch in range(epochs):\n",
    "        # set the running quatities to zero at the beginning of the epoch\n",
    "        running_loss = 0\n",
    "        running_error = 0\n",
    "    \n",
    "        for data in train_loader:\n",
    "            #pass\n",
    "            ##############################################################################\n",
    "            # TODO: Implement the training process.                                      #\n",
    "            ##############################################################################\n",
    "\n",
    "            # Load inputs and labels and deploy to running device\n",
    "            data[0] = data[0].to(device)\n",
    "            data[1] = data[1].to(device)\n",
    "            # Set the gradients to zeros\n",
    "            optimizer.zero_grad()\n",
    "            # Forward the batch data through the net       \n",
    "            outputs = model(data[0])\n",
    "            # Compute the average of the losses of the data points in the minibatch\n",
    "            loss = criterion(outputs, data[1])\n",
    "            # Backward pass to compute gradients\n",
    "            loss.backward()\n",
    "            # Do one step of stochastic gradient descent\n",
    "            optimizer.step()\n",
    "            # Add the loss of this batch to the running loss\n",
    "            running_loss += loss.item()\n",
    "            # Compute the error made on this batch and add it to the running error\n",
    "            _, predicted = torch.max(outputs, 1)\n",
    "            running_error += (predicted != data[1]).sum().item()\n",
    "            ##############################################################################\n",
    "            #                             END OF YOUR CODE                               #\n",
    "            ##############################################################################\n",
    "            \n",
    "        # Compute stats for the full training set\n",
    "        total_loss = running_loss / train_size\n",
    "        total_error = running_error / train_size\n",
    "        elapsed = (time.time()-start) / 60\n",
    "        \n",
    "        print('epoch= {} \\t time= {:.2f} min \\t loss= {:.3f} \\t error= {:.2f}%'.format(epoch, elapsed, total_loss, total_error * 100))\n",
    "        eval_on_test_set(model) "
   ]
  },
  {
   "cell_type": "markdown",
   "metadata": {},
   "source": [
    "Run `train_net` and start training. After training, your error on the testing set should be under 30% (if not, please look back and check your codes, there might be something wrong with the network architecture or training process). Once the training phrase is completed, save the trained model on your device so it can be directly loaded in the following tasks."
   ]
  },
  {
   "cell_type": "code",
   "execution_count": 10,
   "metadata": {},
   "outputs": [
    {
     "name": "stderr",
     "output_type": "stream",
     "text": [
      "D:\\Entertainment\\lib\\site-packages\\torch\\nn\\functional.py:718: UserWarning: Named tensors and all their associated APIs are an experimental feature and subject to change. Please do not use them for anything important until they are released as stable. (Triggered internally at  ..\\c10/core/TensorImpl.h:1156.)\n",
      "  return torch.max_pool2d(input, kernel_size, stride, padding, dilation, ceil_mode)\n"
     ]
    },
    {
     "name": "stdout",
     "output_type": "stream",
     "text": [
      "epoch= 0 \t time= 2.94 min \t loss= 0.016 \t error= 76.49%\n",
      "error rate on test set = 65.48%\n",
      "epoch= 1 \t time= 3.67 min \t loss= 0.012 \t error= 56.84%\n",
      "error rate on test set = 49.72%\n",
      "epoch= 2 \t time= 4.19 min \t loss= 0.009 \t error= 43.37%\n",
      "error rate on test set = 38.28%\n",
      "epoch= 3 \t time= 5.24 min \t loss= 0.008 \t error= 33.85%\n",
      "error rate on test set = 31.30%\n",
      "epoch= 4 \t time= 6.45 min \t loss= 0.006 \t error= 26.12%\n",
      "error rate on test set = 32.09%\n",
      "epoch= 5 \t time= 6.98 min \t loss= 0.005 \t error= 20.90%\n",
      "error rate on test set = 31.63%\n",
      "epoch= 6 \t time= 7.63 min \t loss= 0.004 \t error= 16.18%\n",
      "error rate on test set = 24.03%\n",
      "epoch= 7 \t time= 9.04 min \t loss= 0.003 \t error= 12.24%\n",
      "error rate on test set = 25.44%\n",
      "epoch= 8 \t time= 9.66 min \t loss= 0.002 \t error= 9.03%\n",
      "error rate on test set = 25.04%\n",
      "epoch= 9 \t time= 10.26 min \t loss= 0.002 \t error= 6.70%\n",
      "error rate on test set = 24.27%\n",
      "epoch= 10 \t time= 10.85 min \t loss= 0.001 \t error= 5.32%\n",
      "error rate on test set = 22.61%\n",
      "epoch= 11 \t time= 11.47 min \t loss= 0.001 \t error= 3.66%\n",
      "error rate on test set = 23.97%\n",
      "epoch= 12 \t time= 12.10 min \t loss= 0.001 \t error= 3.00%\n",
      "error rate on test set = 24.38%\n",
      "epoch= 13 \t time= 12.93 min \t loss= 0.001 \t error= 2.55%\n",
      "error rate on test set = 22.84%\n",
      "epoch= 14 \t time= 13.51 min \t loss= 0.000 \t error= 2.01%\n",
      "error rate on test set = 25.21%\n",
      "epoch= 15 \t time= 14.09 min \t loss= 0.000 \t error= 1.55%\n",
      "error rate on test set = 23.77%\n",
      "epoch= 16 \t time= 14.90 min \t loss= 0.000 \t error= 1.66%\n",
      "error rate on test set = 22.56%\n",
      "epoch= 17 \t time= 15.46 min \t loss= 0.000 \t error= 1.16%\n",
      "error rate on test set = 22.31%\n",
      "epoch= 18 \t time= 16.04 min \t loss= 0.000 \t error= 1.21%\n",
      "error rate on test set = 22.64%\n",
      "epoch= 19 \t time= 16.91 min \t loss= 0.000 \t error= 0.93%\n",
      "error rate on test set = 22.88%\n"
     ]
    }
   ],
   "source": [
    "# Start training\n",
    "train_net(model)\n",
    "# Save the trained model\n",
    "torch.save(model.state_dict(), './model_cnn.pt')"
   ]
  },
  {
   "cell_type": "markdown",
   "metadata": {
    "id": "D94cT95fDn4q"
   },
   "source": [
    "### Ploting the Results\n",
    "\n",
    "Now you have finished model training, let's randomly pick some test images, feed them into your model and see how they turn out. (There is nothing to implement in this section.)"
   ]
  },
  {
   "cell_type": "code",
   "execution_count": 11,
   "metadata": {
    "colab": {
     "base_uri": "https://localhost:8080/"
    },
    "executionInfo": {
     "elapsed": 436,
     "status": "ok",
     "timestamp": 1643114908663,
     "user": {
      "displayName": "Zhangjie Wu",
      "photoUrl": "https://lh3.googleusercontent.com/a/default-user=s64",
      "userId": "01242795707158007374"
     },
     "user_tz": -480
    },
    "id": "OAEMjcgax1cK",
    "outputId": "4d52ebcf-9955-4da2-b34d-f73bc73f4c36"
   },
   "outputs": [
    {
     "data": {
      "text/plain": [
       "ConvNet(\n",
       "  (conv1): Conv2d(3, 64, kernel_size=(3, 3), stride=(1, 1), padding=(1, 1))\n",
       "  (pool): MaxPool2d(kernel_size=2, stride=2, padding=0, dilation=1, ceil_mode=False)\n",
       "  (conv2): Conv2d(64, 128, kernel_size=(3, 3), stride=(1, 1), padding=(1, 1))\n",
       "  (conv3): Conv2d(128, 256, kernel_size=(3, 3), stride=(1, 1), padding=(1, 1))\n",
       "  (conv4): Conv2d(256, 512, kernel_size=(3, 3), stride=(1, 1), padding=(1, 1))\n",
       "  (fc1): Linear(in_features=2048, out_features=2048, bias=True)\n",
       "  (fc2): Linear(in_features=2048, out_features=4096, bias=True)\n",
       "  (fc3): Linear(in_features=4096, out_features=4096, bias=True)\n",
       "  (fc4): Linear(in_features=4096, out_features=10, bias=True)\n",
       ")"
      ]
     },
     "execution_count": 11,
     "metadata": {},
     "output_type": "execute_result"
    }
   ],
   "source": [
    "assert os.path.exists('./model_cnn.pt'), 'train the model first'\n",
    "# Load the trained model\n",
    "model.load_state_dict(torch.load('./model_cnn.pt', map_location=torch.device('cpu')))\n",
    "model.to(device)\n",
    "model.eval()"
   ]
  },
  {
   "cell_type": "code",
   "execution_count": 12,
   "metadata": {
    "colab": {
     "base_uri": "https://localhost:8080/",
     "height": 819
    },
    "executionInfo": {
     "elapsed": 1372,
     "status": "ok",
     "timestamp": 1643115441114,
     "user": {
      "displayName": "Zhangjie Wu",
      "photoUrl": "https://lh3.googleusercontent.com/a/default-user=s64",
      "userId": "01242795707158007374"
     },
     "user_tz": -480
    },
    "id": "BiWyCjxO4zqr",
    "outputId": "238a728b-b90b-4832-981d-4676ed7ea111"
   },
   "outputs": [
    {
     "name": "stdout",
     "output_type": "stream",
     "text": [
      "2322\n"
     ]
    },
    {
     "data": {
      "image/png": "[encoded data removed]",
      "text/plain": [
       "<Figure size 360x360 with 2 Axes>"
      ]
     },
     "metadata": {
      "needs_background": "light"
     },
     "output_type": "display_data"
    }
   ],
   "source": [
    "# Choose a picture at random\n",
    "idx = randint(0, test_size-1)\n",
    "print(idx)\n",
    "im, label = test_set[idx]\n",
    "org_im = inverse_transform(im)\n",
    "\n",
    "# Send to device, rescale, and view as a batch of 1 \n",
    "im = im.to(device)\n",
    "im = im.view(1,3,32,32)\n",
    "\n",
    "# Feed it to the net and display the confidence scores\n",
    "scores = model(im) \n",
    "probs = F.softmax(scores, dim=1)\n",
    "show_prob_cifar(org_im, label, probs)"
   ]
  },
  {
   "cell_type": "markdown",
   "metadata": {},
   "source": [
    "### Refining the Model\n",
    "\n",
    "Although the vallina model has achieved fair classification results, the test error is still high remaining huge room for further improvement. There are lots of methods to refine your model, such as **modifying the network architecture** (e.g., making your network deeper), **optimizing the learning strategy** (e.g., optimizer, loss function), and **tuning the hyperparameters** (e.g., learning rate, training iterations), etc. Please try at least **TWO** different methods to improve your model's performance, and discuss why these changes can work. Design and conduct your own experiments using the coding cell below, and present your experimental results and analysis in a decent way (e.g., drawing some neat figures/tables can help to convey your thoughts effectively). "
   ]
  },
  {
   "cell_type": "code",
   "execution_count": 13,
   "metadata": {},
   "outputs": [
    {
     "name": "stdout",
     "output_type": "stream",
     "text": [
      "ConvNet_R(\n",
      "  (conv1): Conv2d(3, 64, kernel_size=(3, 3), stride=(1, 1), padding=(1, 1))\n",
      "  (conv1s): Conv2d(64, 64, kernel_size=(3, 3), stride=(1, 1), padding=(1, 1))\n",
      "  (pool): MaxPool2d(kernel_size=2, stride=2, padding=0, dilation=1, ceil_mode=False)\n",
      "  (conv2): Conv2d(64, 128, kernel_size=(3, 3), stride=(1, 1), padding=(1, 1))\n",
      "  (conv3): Conv2d(128, 256, kernel_size=(3, 3), stride=(1, 1), padding=(1, 1))\n",
      "  (conv3s): Conv2d(256, 256, kernel_size=(3, 3), stride=(1, 1), padding=(1, 1))\n",
      "  (conv4): Conv2d(256, 512, kernel_size=(3, 3), stride=(1, 1), padding=(1, 1))\n",
      "  (fc1): Linear(in_features=2048, out_features=2048, bias=True)\n",
      "  (fc2): Linear(in_features=2048, out_features=4096, bias=True)\n",
      "  (fc3): Linear(in_features=4096, out_features=4096, bias=True)\n",
      "  (fc4): Linear(in_features=4096, out_features=10, bias=True)\n",
      "  (dropout): Dropout(p=0.25, inplace=False)\n",
      "  (dropoutsmall): Dropout(p=0.7, inplace=False)\n",
      ")\n"
     ]
    }
   ],
   "source": [
    "##############################################################################\n",
    "# TODO: Conduct experiments to refine your model (e.g., modify the backbone, #\n",
    "# alter the learning strategy, and tuning the hyperparameters, etc.).        #\n",
    "##############################################################################\n",
    "\n",
    "# your code\n",
    "class ConvNet_R(torch.nn.Module):\n",
    "    def __init__(self):\n",
    "        super(ConvNet_R, self).__init__()\n",
    "        \n",
    "        ##############################################################################\n",
    "        # TODO: Define a simple CNN contraining Conv, Pooling, and FC layers.        #\n",
    "        ##############################################################################\n",
    "        \n",
    "        # Block 1:         3 x 32 x 32 --> 64 x 16 x 16        \n",
    "        self.conv1 = nn.Conv2d(3, 64, 3, stride=1, padding=1)\n",
    "        self.conv1s = nn.Conv2d(64, 64, 3, stride=1, padding=1) #added one more convolutional layer\n",
    "        self.pool = nn.MaxPool2d(2, 2)\n",
    "        # Block 2:         64 x 16 x 16 --> 128 x 8 x 8\n",
    "        self.conv2 = nn.Conv2d(64, 128, 3, stride=1, padding=1)\n",
    "        #self.conv2s = nn.Conv2d(128, 128, 3, stride=1, padding=1)\n",
    "        \n",
    "        # Block 3:         128 x 8 x 8 --> 256 x 4 x 4        \n",
    "        self.conv3 = nn.Conv2d(128, 256, 3, stride=1, padding=1)\n",
    "        self.conv3s = nn.Conv2d(256, 256, 3, stride=1, padding=1) #added one more convolutional layer\n",
    "        # Block 4:          256 x 4 x 4 --> 512 x 2 x 2\n",
    "        self.conv4 = nn.Conv2d(256, 512, 3, stride=1, padding=1)\n",
    "        # Linear layers:   512 x 2 x 2 --> 2048 --> 4096 --> 4096 --> 10\n",
    "        self.fc1 = nn.Linear(512 * 2 * 2, 2048)\n",
    "        self.fc2 = nn.Linear(2048, 4096)\n",
    "        self.fc3 = nn.Linear(4096, 4096)\n",
    "        self.fc4 = nn.Linear(4096, 10)\n",
    "        self.dropout = nn.Dropout(0.25) #added one dropout\n",
    "        #self.dropoutmid = nn.Dropout(0.5)\n",
    "        self.dropoutsmall = nn.Dropout(0.7) #added one dropout\n",
    "        ##############################################################################\n",
    "        #                             END OF YOUR CODE                               #\n",
    "        ##############################################################################\n",
    "\n",
    "    def forward(self, x):\n",
    "        \n",
    "        ##############################################################################\n",
    "        # TODO: Implement forward path turning an input image to class probability.  #\n",
    "        # For activation function, please use ReLU.                                  #\n",
    "        ##############################################################################\n",
    "\n",
    "        # Block 1:         3 x 32 x 32 --> 64 x 16 x 16\n",
    "        #x = self.pool(F.relu(self.conv1(x)))\n",
    "        x = F.relu(self.conv1(x))\n",
    "        x = F.relu(self.conv1s(x))\n",
    "        x = self.pool(x)\n",
    "        # Block 2:         64 x 16 x 16 --> 128 x 8 x 8\n",
    "        x = self.pool(F.relu(self.conv2(x)))\n",
    "        #x = F.relu(self.conv2(x))\n",
    "        #x = F.relu(self.conv2s(x))\n",
    "        #x = self.pool(x)\n",
    "        # Block 3:         128 x 8 x 8 --> 256 x 4 x 4\n",
    "        #x = self.pool(F.relu(self.conv3(x)))\n",
    "        x = F.relu(self.conv3(x))\n",
    "        x = F.relu(self.conv3s(x))\n",
    "        #x = F.relu(self.conv3s(x))\n",
    "        x = self.pool(x)\n",
    "        # Block 4:         256 x 4 x 4 --> 512 x 2 x 2\n",
    "        x = self.conv4(x)\n",
    "        #z.register_hook(lambda grad: print(grad))\n",
    "        #z.retain_grad()\n",
    "        x = self.pool(F.relu(x)) #Add dropout below\n",
    "        # Linear layers:   512 x 2 x 2 --> 2048 --> 4096 --> 4096 --> 10\n",
    "        #x = self.dropout(x)\n",
    "        x = x.view(-1, 512 * 2 * 2)\n",
    "        x = self.dropoutsmall(x)\n",
    "        x = F.relu(self.fc1(x))\n",
    "        #x = self.dropoutmid(x)\n",
    "        x = F.relu(self.fc2(x))\n",
    "        x = self.dropout(x)\n",
    "        x = F.relu(self.fc3(x))\n",
    "        #x = F.relu(self.fc3(x))\n",
    "        #x = self.dropout(x)\n",
    "        x = self.fc4(x)\n",
    "        #softmax = nn.Softmax(dim=-1)\n",
    "        #x = softmax(x)\n",
    "        ##############################################################################\n",
    "        #                             END OF YOUR CODE                               #\n",
    "        ##############################################################################\n",
    "        \n",
    "        return x\n",
    "    \n",
    "model = ConvNet_R()\n",
    "model.to(device)\n",
    "print(model)\n",
    "\n",
    "epochs = 23 #increase number of epochs\n",
    "batch_size = 128\n",
    "#batch_size = 100\n",
    "#learning_rate = 0.25\n",
    "learning_rate = 0.1 #decrease the learning rate\n",
    "\n",
    "# Set up optimizer\n",
    "optimizer = optim.SGD(model.parameters(), lr=learning_rate)\n",
    "# Define loss function\n",
    "criterion = torch.nn.CrossEntropyLoss()\n",
    "# Build data loaders\n",
    "train_loader = torch.utils.data.DataLoader(train_set, batch_size=batch_size, shuffle=True, num_workers=1)\n",
    "test_loader = torch.utils.data.DataLoader(test_set, batch_size=batch_size, shuffle=False, num_workers=1)\n",
    "data_loaders = {\"train\": train_loader, \"test\": test_loader}\n",
    "dataset_sizes = {\"train\": train_size, \"test\": test_size}\n",
    "##############################################################################\n",
    "#                             END OF YOUR CODE                               #\n",
    "##############################################################################"
   ]
  },
  {
   "cell_type": "code",
   "execution_count": 14,
   "metadata": {},
   "outputs": [
    {
     "name": "stdout",
     "output_type": "stream",
     "text": [
      "epoch= 0 \t time= 0.96 min \t loss= 0.018 \t error= 89.98%\n",
      "error rate on test set = 90.00%\n",
      "epoch= 1 \t time= 1.83 min \t loss= 0.018 \t error= 87.52%\n",
      "error rate on test set = 80.19%\n",
      "epoch= 2 \t time= 2.85 min \t loss= 0.016 \t error= 77.50%\n",
      "error rate on test set = 79.91%\n",
      "epoch= 3 \t time= 3.90 min \t loss= 0.015 \t error= 71.30%\n",
      "error rate on test set = 67.54%\n",
      "epoch= 4 \t time= 4.81 min \t loss= 0.013 \t error= 64.22%\n",
      "error rate on test set = 62.75%\n",
      "epoch= 5 \t time= 6.01 min \t loss= 0.012 \t error= 56.66%\n",
      "error rate on test set = 51.76%\n",
      "epoch= 6 \t time= 8.08 min \t loss= 0.011 \t error= 49.20%\n",
      "error rate on test set = 45.37%\n",
      "epoch= 7 \t time= 9.07 min \t loss= 0.009 \t error= 43.72%\n",
      "error rate on test set = 37.44%\n",
      "epoch= 8 \t time= 10.25 min \t loss= 0.008 \t error= 37.81%\n",
      "error rate on test set = 42.77%\n",
      "epoch= 9 \t time= 11.25 min \t loss= 0.007 \t error= 32.78%\n",
      "error rate on test set = 32.68%\n",
      "epoch= 10 \t time= 12.62 min \t loss= 0.006 \t error= 28.79%\n",
      "error rate on test set = 30.31%\n",
      "epoch= 11 \t time= 14.02 min \t loss= 0.006 \t error= 25.16%\n",
      "error rate on test set = 27.26%\n",
      "epoch= 12 \t time= 14.98 min \t loss= 0.005 \t error= 21.90%\n",
      "error rate on test set = 24.96%\n",
      "epoch= 13 \t time= 16.14 min \t loss= 0.004 \t error= 18.93%\n",
      "error rate on test set = 21.44%\n",
      "epoch= 14 \t time= 17.11 min \t loss= 0.004 \t error= 16.36%\n",
      "error rate on test set = 22.88%\n",
      "epoch= 15 \t time= 18.45 min \t loss= 0.003 \t error= 14.14%\n",
      "error rate on test set = 21.28%\n",
      "epoch= 16 \t time= 19.33 min \t loss= 0.003 \t error= 12.35%\n",
      "error rate on test set = 19.93%\n",
      "epoch= 17 \t time= 20.41 min \t loss= 0.002 \t error= 10.69%\n",
      "error rate on test set = 21.76%\n",
      "epoch= 18 \t time= 21.46 min \t loss= 0.002 \t error= 8.99%\n",
      "error rate on test set = 20.71%\n",
      "epoch= 19 \t time= 22.44 min \t loss= 0.002 \t error= 7.85%\n",
      "error rate on test set = 20.34%\n",
      "epoch= 20 \t time= 23.56 min \t loss= 0.002 \t error= 6.95%\n",
      "error rate on test set = 20.63%\n",
      "epoch= 21 \t time= 24.53 min \t loss= 0.001 \t error= 5.99%\n",
      "error rate on test set = 21.48%\n",
      "epoch= 22 \t time= 25.77 min \t loss= 0.001 \t error= 5.25%\n",
      "error rate on test set = 18.68%\n"
     ]
    }
   ],
   "source": [
    "# Start training                               #this cell is to actually train the refined CNN\n",
    "train_net(model)\n",
    "# Save the trained model\n",
    "torch.save(model.state_dict(), './model_cnn.pt')"
   ]
  },
  {
   "cell_type": "markdown",
   "metadata": {},
   "source": [
    "---\n",
    "\n",
    "**Write your observations and analysis in this Markdown cell:**\n",
    "The performance of the CNN has improved because I have made the neural network deeper I have added 2 more convolutional layers, I have also added some dropouts too. I have also decrease the learning rate to 0.1. Increasing the number of epochs also improve the performance of the CNN. In this case, I have increase the number of epochs to 23. \n",
    "\n",
    "Large learning rate can cause the model to converge too quickly to a suboptimal solution, so decreasing the learning rate makes the situation better. Making neural network deeper makes it possible to train with more input value, they can also learn features at various levels of abstraction.\n",
    "\n",
    "Finally adding dropout is able to prevent overfitting of the training data therefore improving the performance of the CNN. Increasing the number of epochs allow for more training sessions with the CNN, which decreasing the training error rate more over time, and improve the test error rate of the CNN.\n",
    "\n",
    "\n",
    "---"
   ]
  },
  {
   "cell_type": "markdown",
   "metadata": {
    "id": "-dQFsHMr_8ol"
   },
   "source": [
    "## Task 2: Model Interpretation\n",
    "\n",
    "The model is doing well, eating images and predicting results; however, everything that happens inside is opaque and hard to explain. So, how can we interpret how CNN sees and understands when making a decision? \n",
    "\n",
    "In this section, we are going to explore Grad-CAM, a visual explanation algorithm that generates heatmaps indicating where the network is \"looking\" in the forward pass."
   ]
  },
  {
   "cell_type": "markdown",
   "metadata": {},
   "source": [
    "#### Grad-CAM\n",
    "\n",
    "Gradient-weighted Class Activation Mapping (Grad-CAM) [1], uses the gradients of any target concept, flowing into the final convolutional layer to produce a coarse localization map highlighting important regions in the image for predicting the concept. An overview of the workflow of Grad-CAM is shown below. Please read the paper [1], understand the algorithm, and implement `generate_cam`.\n",
    "\n",
    "<img src=\"./figures/gradcam_network.png\" width=\"800\"/>\n",
    "\n",
    "[1] [Selvaraju, Ramprasaath R., et al. \"Grad-cam: Visual explanations from deep networks via gradient-based localization.\" ICCV 2017.](https://arxiv.org/abs/1610.02391)"
   ]
  },
  {
   "cell_type": "code",
   "execution_count": 15,
   "metadata": {},
   "outputs": [],
   "source": [
    "gradients = []  # A gloabl variable used to save the gradient\n",
    "def generate_cam(model, input_image, target_layer='conv4', target_class=None):\n",
    "    \"\"\"\n",
    "    A function to generate Grad-CAM of specific layer and class on an input image using given model.\n",
    "  \n",
    "    Inputs\n",
    "    - model: A PyTorch model.\n",
    "    - input_image: A PyTorch Tensor of shape (1, C, H, W).\n",
    "    - target_layer: A String indicating the name of targeted convolutional layer being visualized (e.g., 'conv4').\n",
    "                    By default, use the last conv layer of the model.\n",
    "    - target_class: An Integer indicating the lable of targeted class being visualized (e.g., 1). \n",
    "                    If None, use the predicted class as target class.\n",
    "    \n",
    "    Returns: A NumPy Array of shape (N, C, H, W) showing the intended heatmap.\n",
    "    \"\"\"\n",
    "\n",
    "    ##############################################################################\n",
    "    # TODO: Given an input image, generate its Grad-CAM on target conv layer     #\n",
    "    # using the backward gradients from a specific class.                        #\n",
    "    # 1. Forward the input image, when you also need to register the gradient    #\n",
    "    # hook so as to get the gradient in backward pass (hint: register_hook).     #\n",
    "    # 2. Backward pass with specified target class, and get gradients.           #\n",
    "    # 3. Average each gradient, multiply with its conv output, and sum together. #\n",
    "    ##############################################################################\n",
    "    \n",
    "    # your code\n",
    "    visualisation = {}\n",
    "\n",
    "\n",
    "\n",
    "    def hook_fn(m, i, o):\n",
    "        visualisation[m] = o \n",
    "\n",
    "\n",
    "    def get_all_layers(net):            #do a forward hook to all the layers, so as to\n",
    "        for name, layer in net._modules.items(): #get all the activation map of the convolutional layers\n",
    "        #If it is a sequential, don't register a hook on it                     \n",
    "        # but recursively register hook on all it's module children       \n",
    "            if isinstance(layer, nn.Sequential):\n",
    "                get_all_layers(layer)\n",
    "            else:\n",
    "          # it's a non sequential. Register a hook\n",
    "                layer.register_forward_hook(hook_fn)\n",
    "\n",
    "\n",
    "    def get_backward_layers(net):         #do a backward hook to all the layers, so as to\n",
    "        for name, layer in net._modules.items():  #get all the gradients of the convolutional layers\n",
    "        #If it is a sequential, don't register a hook on it                    \n",
    "        # but recursively register hook on all it's module children\n",
    "            if isinstance(layer, nn.Sequential):\n",
    "                get_all_layers(layer)\n",
    "            else:\n",
    "          # it's a non sequential. Register a hook\n",
    "                layer.register_full_backward_hook(hook_fn)\n",
    "    global label\n",
    "    label = torch.tensor([label]).to(device)\n",
    "    get_all_layers(model)\n",
    "    get_backward_layers(model)\n",
    "    outp = model(input_image)\n",
    "    \n",
    "    visualisation_copy = visualisation.copy() #visualisation_copy is a dictionary with values of activation map\n",
    "    cam = visualisation_copy.get(model._modules.get(target_layer)) #access the activation map depending on what convolutional\n",
    "    #layer the user wants\n",
    "    loss = criterion(outp, label)\n",
    "    loss.backward()  #do a backward pass to get gradient\n",
    "        \n",
    "    for i in range(cam.shape[1]):\n",
    "        cam[:, i, :, :] *= torch.mean(visualisation.get(model._modules.get(target_layer))[0], dim=[0, 2, 3])[i]#average each gradient\n",
    "    cam = torch.sum(cam, dim = 1) #sum together\n",
    "    cam = cam.cpu().detach().numpy() #conversion to numpy form\n",
    "    cam = cam.reshape(cam.shape[-2],cam.shape[-1]) #reshape to proper 2 dimensional array\n",
    "    ##############################################################################\n",
    "    #                             END OF YOUR CODE                               #\n",
    "    ##############################################################################\n",
    "\n",
    "    # Post processing\n",
    "    cam = np.maximum(cam, 0)\n",
    "    cam = (cam - np.min(cam)) / (np.max(cam) - np.min(cam))  # Normalize between 0-1\n",
    "    cam = np.uint8(cam * 255)  # Scale between 0-255 to visualize\n",
    "    cam = np.uint8(Image.fromarray(cam).resize((input_image.shape[2],\n",
    "                    input_image.shape[3]), Image.ANTIALIAS))\n",
    "\n",
    "    return cam"
   ]
  },
  {
   "cell_type": "code",
   "execution_count": 16,
   "metadata": {},
   "outputs": [
    {
     "data": {
      "image/png": "[encoded data removed]",
      "text/plain": [
       "<Figure size 432x288 with 2 Axes>"
      ]
     },
     "metadata": {
      "needs_background": "light"
     },
     "output_type": "display_data"
    }
   ],
   "source": [
    "idx = randint(0, test_size-1)\n",
    "im, label = test_set[idx]\n",
    "org_im = inverse_transform(im)\n",
    "\n",
    "im = im.to(device)\n",
    "im = im.view(1,3,32,32)\n",
    "\n",
    "ax = plt.subplot(1, 2, 1)\n",
    "ax.imshow(org_im)\n",
    "ax.set_title('Original Image')\n",
    "ax.set_axis_off()\n",
    "\n",
    "cam = generate_cam(model, im)\n",
    "heatmap, heatmap_on_image = apply_colormap_on_image(org_im, cam, 'hsv')\n",
    "\n",
    "ax = plt.subplot(1, 2, 2)\n",
    "ax.imshow(heatmap_on_image)\n",
    "ax.set_title('Grad-CAM')\n",
    "ax.set_axis_off()"
   ]
  },
  {
   "cell_type": "markdown",
   "metadata": {},
   "source": [
    "### Performing Visual Explanation\n",
    "\n",
    "Now you have successfully built a powerful tool (i.e., Grad-CAM) that can assist you to visualize and understand the CNN models. Try to make full use of `generate_cam` and design at least **TWO** experiments that can further explain how CNN sees and understands the images. For example, apply Grad-CAM on different layers and compare their differences. Please quantitatively show some evidence (e.g., plotting some examplar images clearly and elegantly) with necessary code snippets, write down your observations and briefly explain each. "
   ]
  },
  {
   "cell_type": "code",
   "execution_count": 19,
   "metadata": {},
   "outputs": [
    {
     "data": {
      "image/png": "[encoded data removed]",
      "text/plain": [
       "<Figure size 1224x1224 with 7 Axes>"
      ]
     },
     "metadata": {
      "needs_background": "light"
     },
     "output_type": "display_data"
    }
   ],
   "source": [
    "##############################################################################\n",
    "# TODO: Write code snippets to present your experiments (hint: if you want   #\n",
    "# to plot multiple images in one single figure, plt.subplot should help).    #\n",
    "##############################################################################\n",
    "\n",
    "# your code\n",
    "from matplotlib.pyplot import figure\n",
    "idx = randint(0, test_size-1)\n",
    "im, label = test_set[idx]\n",
    "org_im = inverse_transform(im)\n",
    "\n",
    "im = im.to(device)\n",
    "im = im.view(1,3,32,32)\n",
    "\n",
    "figure(figsize=(17, 17))\n",
    "\n",
    "ax = plt.subplot(1, 7, 1)  #middle value is how many plots, rightmost value means the location, 1st, 2nd or 3rd.\n",
    "ax.imshow(org_im)\n",
    "ax.set_title('Original Image')             #this cell is showing all the Grad-CAM for different convolutional layers\n",
    "ax.set_axis_off()\n",
    "\n",
    "cam = generate_cam(model, im, 'conv4')\n",
    "heatmap, heatmap_on_image = apply_colormap_on_image(org_im, cam, 'hsv')\n",
    "\n",
    "ax = plt.subplot(1, 7, 2)\n",
    "ax.imshow(heatmap_on_image)\n",
    "ax.set_title('Grad-CAM-conv4')\n",
    "ax.set_axis_off()\n",
    "\n",
    "cam = generate_cam(model, im, 'conv3s')\n",
    "heatmap, heatmap_on_image = apply_colormap_on_image(org_im, cam, 'hsv')\n",
    "\n",
    "ax = plt.subplot(1, 7, 3)\n",
    "ax.imshow(heatmap_on_image)\n",
    "ax.set_title('Grad-CAM-conv3s')\n",
    "ax.set_axis_off()\n",
    "\n",
    "cam = generate_cam(model, im, 'conv3')\n",
    "heatmap, heatmap_on_image = apply_colormap_on_image(org_im, cam, 'hsv')\n",
    "\n",
    "ax = plt.subplot(1, 7, 4)\n",
    "ax.imshow(heatmap_on_image)\n",
    "ax.set_title('Grad-CAM-conv3')\n",
    "ax.set_axis_off()\n",
    "\n",
    "cam = generate_cam(model, im, 'conv2')\n",
    "heatmap, heatmap_on_image = apply_colormap_on_image(org_im, cam, 'hsv')\n",
    "\n",
    "ax = plt.subplot(1, 7, 5)\n",
    "ax.imshow(heatmap_on_image)\n",
    "ax.set_title('Grad-CAM-conv2')\n",
    "ax.set_axis_off()\n",
    "\n",
    "cam = generate_cam(model, im, 'conv1s')\n",
    "heatmap, heatmap_on_image = apply_colormap_on_image(org_im, cam, 'hsv')\n",
    "\n",
    "ax = plt.subplot(1, 7, 6)\n",
    "ax.imshow(heatmap_on_image)\n",
    "ax.set_title('Grad-CAM-conv1s')\n",
    "ax.set_axis_off()\n",
    "\n",
    "cam = generate_cam(model, im, 'conv1')\n",
    "heatmap, heatmap_on_image = apply_colormap_on_image(org_im, cam, 'hsv')\n",
    "\n",
    "ax = plt.subplot(1, 7, 7)\n",
    "ax.imshow(heatmap_on_image)\n",
    "ax.set_title('Grad-CAM-conv1')\n",
    "ax.set_axis_off()\n",
    "##############################################################################\n",
    "#                             END OF YOUR CODE                               #\n",
    "##############################################################################"
   ]
  },
  {
   "cell_type": "markdown",
   "metadata": {},
   "source": [
    "---\n",
    "\n",
    "**Write your observations and analysis in this Markdown cell:**\n",
    "From what I observe after applying Grad-CAM on the different convolutional layers of the CNN. The first few convolutional layers, not much heat map is involved only a little bit of it to cover some features of the object in the image. As the convolutional layers progress, the heatmap starts to intensify, it starts to spread to more parts of the features in the image.\n",
    "\n",
    "At the very end/last convolutional layer, the heatmap would be at the peak of its intensification, it will also become more localised and should be aiming at the object specifically in the image. Sometimes the heatmap is not localised and overspreading across the image, I believe that could be an indication of overbuilding the architecture of the CNN, so it has decrease the overall performance of the CNN.\n",
    "\n",
    "---"
   ]
  },
  {
   "cell_type": "markdown",
   "metadata": {
    "id": "-HdsDUNRBZUO"
   },
   "source": [
    "## Task 3: Adversarial Attack\n",
    "\n",
    "After going through some testing results in Task 1, you might think in most cases the model performs pretty well, predicting the correct classes with high confidence, and rarely making mistakes. However, the network is not as strong as you think. The network can be vulnerable and easily fooled by simply adding some very small distributions on input images. In this section, we are going to attack our previously trained model by generating adversarial images that visually look alike but crush the model without striking a blowing."
   ]
  },
  {
   "cell_type": "markdown",
   "metadata": {},
   "source": [
    "### Adversarial Examples\n",
    "\n",
    "Adversarial examples are specialised inputs created with the purpose of confusing a neural network, resulting in the misclassification of a given input. These examples are usually generated by adding imperceptible non-random perturbations to the image, which are indistinguishable to human eye, but can cause the network to fail to identify the contents of the image. There are many kinds of such attack strategies, here we focus on the **Fast Gradient Sign Method (FGSM)** [2]. FGSM is a white box attack where the attacker has complete access to the model being attacked. The method uses the gradients of the loss with respect to the input image to create a new image that maximises the loss. Below shows a famous exmaple taken from the paper [2], where the classification of image showing \"panda\" is changed to \"gibbon\" after adding an imperceptibly small vector: $\\text{sign}(\\nabla_xJ(\\theta, x, y))$.\n",
    "\n",
    "<img src=\"./figures/adversarial_example.png\" width=\"800\"/>\n",
    "\n",
    "Read the paper [2] for more details, and then implement the following function `generate_adv_image`, which generates \"fooling images\" of target class to attack your network. \n",
    "\n",
    "[2] [Goodfellow, Ian J., Jonathon Shlens, and Christian Szegedy. \"Explaining and harnessing adversarial examples.\" ICLR 2015.](https://arxiv.org/abs/1412.6572)"
   ]
  },
  {
   "cell_type": "code",
   "execution_count": 20,
   "metadata": {},
   "outputs": [],
   "source": [
    "def generate_adv_image(model, inputs, labels, targets=None, eps=0.2):\n",
    "    \"\"\"\n",
    "    A function to generate adversarial examples.\n",
    "  \n",
    "    Inputs\n",
    "    - model: A PyTorch model.\n",
    "    - inputs: Input images, a PyTorch Tensor of shape (N, C, H, W).\n",
    "    - labels: Ground truth labels of input images, a PyTorch Tensor of shape (N,).\n",
    "    - targets: The target classes you want the model to misclassify, a PyTorch Tensor of shape (N,).\n",
    "    \n",
    "    Returns: The adversarial examples of given images.\n",
    "    \"\"\"\n",
    "\n",
    "\n",
    "    ##############################################################################\n",
    "    # TODO: Implement Fast Gradient Sign Method to generate an adversarial image #\n",
    "    # that fools the model to predict incorrect class.                           #   \n",
    "    # 1. Get the gradients of the loss w.r.t to the input image.                 #\n",
    "    # 2. Get the sign of the gradients to create the perturbation.               #\n",
    "    # 3. Add the perturbation to the input image.                                #\n",
    "    ##############################################################################\n",
    "    \n",
    "    # your code\n",
    "    if targets is None: #this is for non-targeted adversarial attack\n",
    "        \n",
    "        labels = torch.tensor([labels]).to(device)\n",
    "        inputs.requires_grad = True #set input image to have required_grad = True\n",
    "        output = model(inputs)\n",
    "        loss = criterion(output, labels)\n",
    "    \n",
    "        loss.backward() #backward pass to get gradient\n",
    "    \n",
    "        sign_data_grad = inputs.grad.sign() #get the sign of the gradients to create the perturbation\n",
    "    \n",
    "        adv_inputs = inputs + eps*sign_data_grad #add the perturbation to the input image\n",
    "    \n",
    "    else: #this is for targeted adversarial attack\n",
    "        delta = torch.zeros_like(inputs, requires_grad=True) #delta is the noise\n",
    "        labels = torch.tensor([labels]).to(device)\n",
    "        for t in range(40): \n",
    "    \n",
    "            output = model(inputs + delta)\n",
    "    \n",
    "            loss = (output[:,targets] - output.gather(1,labels[:,None])[:,0]).sum() #compute the loss\n",
    "            loss.backward() #do a backward pass on the loss\n",
    "            delta.data = (delta + 1e-2*delta.grad.detach().sign()).clamp(-eps,eps) #update the delta\n",
    "            delta.grad.zero_() #reset delta gradient to zero\n",
    "        adv_inputs = inputs + delta.data #after the iteration, add the delta noise to the input image\n",
    "    ##############################################################################\n",
    "    #                             END OF YOUR CODE                               #\n",
    "    ##############################################################################\n",
    "\n",
    "    return adv_inputs.detach()"
   ]
  },
  {
   "cell_type": "markdown",
   "metadata": {},
   "source": [
    "### Attacking the Model"
   ]
  },
  {
   "cell_type": "markdown",
   "metadata": {},
   "source": [
    "Randomly pick up some images from test set, and attack the model using adversarial examples generated by `generate_adv_image`."
   ]
  },
  {
   "cell_type": "code",
   "execution_count": 21,
   "metadata": {},
   "outputs": [
    {
     "name": "stdout",
     "output_type": "stream",
     "text": [
      "Before attack:\n"
     ]
    },
    {
     "data": {
      "image/png": "[encoded data removed]",
      "text/plain": [
       "<Figure size 360x360 with 2 Axes>"
      ]
     },
     "metadata": {
      "needs_background": "light"
     },
     "output_type": "display_data"
    },
    {
     "name": "stdout",
     "output_type": "stream",
     "text": [
      "After attack:\n"
     ]
    },
    {
     "data": {
      "image/png": "[encoded data removed]",
      "text/plain": [
       "<Figure size 360x360 with 2 Axes>"
      ]
     },
     "metadata": {
      "needs_background": "light"
     },
     "output_type": "display_data"
    }
   ],
   "source": [
    "idx = randint(0, len(test_set)-1)\n",
    "im, label = test_set[idx]\n",
    "org_im = inverse_transform(im)\n",
    "\n",
    "im = im.to(device)\n",
    "im = im.view(1,3,32,32)\n",
    "\n",
    "print('Before attack:')\n",
    "scores = model(im) \n",
    "probs = F.softmax(scores, dim=1)\n",
    "show_prob_cifar(org_im, label, probs)\n",
    "\n",
    "adv_im = generate_adv_image(model, im, label)\n",
    "\n",
    "print('After attack:')\n",
    "scores = model(adv_im) \n",
    "probs = F.softmax(scores, dim=1)\n",
    "show_prob_cifar(inverse_transform(adv_im[0]), label, probs)"
   ]
  },
  {
   "cell_type": "markdown",
   "metadata": {},
   "source": [
    "Run evaluation on the testing set to see how the model performs on the generated adversarial examples, and compare with results before attacks. Try different parameters (e.g., `targets`, `eps`), describe your observations with a brief explanation in the below cell. "
   ]
  },
  {
   "cell_type": "code",
   "execution_count": 22,
   "metadata": {},
   "outputs": [
    {
     "name": "stdout",
     "output_type": "stream",
     "text": [
      "After targeted attack:\n"
     ]
    },
    {
     "data": {
      "image/png": "[encoded data removed]",
      "text/plain": [
       "<Figure size 360x360 with 2 Axes>"
      ]
     },
     "metadata": {
      "needs_background": "light"
     },
     "output_type": "display_data"
    },
    {
     "name": "stdout",
     "output_type": "stream",
     "text": [
      "After targeted attack:\n"
     ]
    },
    {
     "data": {
      "image/png": "[encoded data removed]",
      "text/plain": [
       "<Figure size 360x360 with 2 Axes>"
      ]
     },
     "metadata": {
      "needs_background": "light"
     },
     "output_type": "display_data"
    },
    {
     "name": "stdout",
     "output_type": "stream",
     "text": [
      "After targeted attack:\n"
     ]
    },
    {
     "data": {
      "image/png": "[encoded data removed]",
      "text/plain": [
       "<Figure size 360x360 with 2 Axes>"
      ]
     },
     "metadata": {
      "needs_background": "light"
     },
     "output_type": "display_data"
    },
    {
     "name": "stdout",
     "output_type": "stream",
     "text": [
      "After targeted attack:\n"
     ]
    },
    {
     "data": {
      "image/png": "[encoded data removed]",
      "text/plain": [
       "<Figure size 360x360 with 2 Axes>"
      ]
     },
     "metadata": {
      "needs_background": "light"
     },
     "output_type": "display_data"
    },
    {
     "name": "stdout",
     "output_type": "stream",
     "text": [
      "After targeted attack:\n"
     ]
    },
    {
     "data": {
      "image/png": "[encoded data removed]",
      "text/plain": [
       "<Figure size 360x360 with 2 Axes>"
      ]
     },
     "metadata": {
      "needs_background": "light"
     },
     "output_type": "display_data"
    },
    {
     "name": "stdout",
     "output_type": "stream",
     "text": [
      "After targeted attack:\n"
     ]
    },
    {
     "data": {
      "image/png": "[encoded data removed]",
      "text/plain": [
       "<Figure size 360x360 with 2 Axes>"
      ]
     },
     "metadata": {
      "needs_background": "light"
     },
     "output_type": "display_data"
    },
    {
     "name": "stdout",
     "output_type": "stream",
     "text": [
      "After targeted attack:\n"
     ]
    },
    {
     "data": {
      "image/png": "[encoded data removed]",
      "text/plain": [
       "<Figure size 360x360 with 2 Axes>"
      ]
     },
     "metadata": {
      "needs_background": "light"
     },
     "output_type": "display_data"
    },
    {
     "name": "stdout",
     "output_type": "stream",
     "text": [
      "After targeted attack:\n"
     ]
    },
    {
     "data": {
      "image/png": "[encoded data removed]",
      "text/plain": [
       "<Figure size 360x360 with 2 Axes>"
      ]
     },
     "metadata": {
      "needs_background": "light"
     },
     "output_type": "display_data"
    },
    {
     "name": "stdout",
     "output_type": "stream",
     "text": [
      "After targeted attack:\n"
     ]
    },
    {
     "data": {
      "image/png": "[encoded data removed]",
      "text/plain": [
       "<Figure size 360x360 with 2 Axes>"
      ]
     },
     "metadata": {
      "needs_background": "light"
     },
     "output_type": "display_data"
    },
    {
     "name": "stdout",
     "output_type": "stream",
     "text": [
      "After targeted attack:\n"
     ]
    },
    {
     "data": {
      "image/png": "[encoded data removed]",
      "text/plain": [
       "<Figure size 360x360 with 2 Axes>"
      ]
     },
     "metadata": {
      "needs_background": "light"
     },
     "output_type": "display_data"
    }
   ],
   "source": [
    "##############################################################################\n",
    "# TODO: Evaluate error rate on adversarial images generated from testing set #\n",
    "# with different parameter settings.                                         #\n",
    "##############################################################################\n",
    "\n",
    "# your code\n",
    "adv_im = generate_adv_image(model, im, label, 3) #this cell is to show the effect of targeted adversarial attack, take for \n",
    "#adv_im = generate_adv_image(model, im, 1) #example I want to misclassify the image to class 3 which is cat\n",
    "\n",
    "print('After targeted attack:')\n",
    "scores = model(adv_im) \n",
    "probs = F.softmax(scores, dim=1)\n",
    "show_prob_cifar(inverse_transform(adv_im[0]), label, probs)\n",
    "\n",
    "adv_im = generate_adv_image(model, im, label, 2) #misclassify the image to class 2 which is bird \n",
    "#adv_im = generate_adv_image(model, im, 1)\n",
    "\n",
    "print('After targeted attack:')\n",
    "scores = model(adv_im) \n",
    "probs = F.softmax(scores, dim=1)\n",
    "show_prob_cifar(inverse_transform(adv_im[0]), label, probs)\n",
    "\n",
    "adv_im = generate_adv_image(model, im, label, 1) #misclassify the image to class 1 which is automobile and so on.\n",
    "#adv_im = generate_adv_image(model, im, 1)\n",
    "\n",
    "print('After targeted attack:')\n",
    "scores = model(adv_im) \n",
    "probs = F.softmax(scores, dim=1)\n",
    "show_prob_cifar(inverse_transform(adv_im[0]), label, probs)\n",
    "\n",
    "adv_im = generate_adv_image(model, im, label, 0)\n",
    "#adv_im = generate_adv_image(model, im, 1)\n",
    "\n",
    "print('After targeted attack:')\n",
    "scores = model(adv_im) \n",
    "probs = F.softmax(scores, dim=1)\n",
    "show_prob_cifar(inverse_transform(adv_im[0]), label, probs)\n",
    "\n",
    "adv_im = generate_adv_image(model, im, label, 4)\n",
    "#adv_im = generate_adv_image(model, im, 1)\n",
    "\n",
    "print('After targeted attack:')\n",
    "scores = model(adv_im) \n",
    "probs = F.softmax(scores, dim=1)\n",
    "show_prob_cifar(inverse_transform(adv_im[0]), label, probs)\n",
    "\n",
    "adv_im = generate_adv_image(model, im, label, 5)\n",
    "#adv_im = generate_adv_image(model, im, 1)\n",
    "\n",
    "print('After targeted attack:')\n",
    "scores = model(adv_im) \n",
    "probs = F.softmax(scores, dim=1)\n",
    "show_prob_cifar(inverse_transform(adv_im[0]), label, probs)\n",
    "\n",
    "adv_im = generate_adv_image(model, im, label, 6)\n",
    "#adv_im = generate_adv_image(model, im, 1)\n",
    "\n",
    "print('After targeted attack:')\n",
    "scores = model(adv_im) \n",
    "probs = F.softmax(scores, dim=1)\n",
    "show_prob_cifar(inverse_transform(adv_im[0]), label, probs)\n",
    "\n",
    "adv_im = generate_adv_image(model, im, label, 7)\n",
    "#adv_im = generate_adv_image(model, im, 1)\n",
    "\n",
    "print('After targeted attack:')\n",
    "scores = model(adv_im) \n",
    "probs = F.softmax(scores, dim=1)\n",
    "show_prob_cifar(inverse_transform(adv_im[0]), label, probs)\n",
    "\n",
    "adv_im = generate_adv_image(model, im, label, 8)\n",
    "#adv_im = generate_adv_image(model, im, 1)\n",
    "\n",
    "print('After targeted attack:')\n",
    "scores = model(adv_im) \n",
    "probs = F.softmax(scores, dim=1)\n",
    "show_prob_cifar(inverse_transform(adv_im[0]), label, probs)\n",
    "\n",
    "adv_im = generate_adv_image(model, im, label, 9)\n",
    "#adv_im = generate_adv_image(model, im, 1)\n",
    "\n",
    "print('After targeted attack:')\n",
    "scores = model(adv_im) \n",
    "probs = F.softmax(scores, dim=1)\n",
    "show_prob_cifar(inverse_transform(adv_im[0]), label, probs)\n",
    "##############################################################################\n",
    "#                             END OF YOUR CODE                               #\n",
    "##############################################################################"
   ]
  },
  {
   "cell_type": "code",
   "execution_count": 23,
   "metadata": {},
   "outputs": [
    {
     "name": "stdout",
     "output_type": "stream",
     "text": [
      "error rate on test set = 36.84%\n",
      "error rate on test set = 62.94%\n",
      "error rate on test set = 82.15%\n"
     ]
    }
   ],
   "source": [
    "def generate_adv_image_batch(model, inputs, labels, eps, targets=None): #this function is generating adv_images in batches\n",
    "    #because we are going to use the test_set which is written earlier previously.\n",
    "    \"\"\"\n",
    "    A function to generate adversarial examples.\n",
    "  \n",
    "    Inputs\n",
    "    - model: A PyTorch model.\n",
    "    - inputs: Input images, a PyTorch Tensor of shape (N, C, H, W).\n",
    "    - labels: Ground truth labels of input images, a PyTorch Tensor of shape (N,).\n",
    "    - targets: The target classes you want the model to misclassify, a PyTorch Tensor of shape (N,).\n",
    "    \n",
    "    Returns: The adversarial examples of given images.\n",
    "    \"\"\"\n",
    "\n",
    "\n",
    "    ##############################################################################\n",
    "    # TODO: Implement Fast Gradient Sign Method to generate an adversarial image #\n",
    "    # that fools the model to predict incorrect class.                           #   \n",
    "    # 1. Get the gradients of the loss w.r.t to the input image.                 #\n",
    "    # 2. Get the sign of the gradients to create the perturbation.               #\n",
    "    # 3. Add the perturbation to the input image.                                #\n",
    "    ##############################################################################\n",
    "    \n",
    "    # your code\n",
    "    #labels = torch.tensor([labels]).to(device)\n",
    "    inputs.requires_grad = True #code is largely similar as the first just that the labels now become a tensor instead of a \n",
    "    #single float so there is no need to convert to tensor in the first place.\n",
    "    output = model(inputs)\n",
    "    loss = criterion(output, labels)\n",
    "    loss.backward()\n",
    "    #inputs.grad ###\n",
    "    sign_data_grad = inputs.grad.sign()\n",
    "    adv_inputs = inputs + eps*sign_data_grad\n",
    "    ##############################################################################\n",
    "    #                             END OF YOUR CODE                               #\n",
    "    ##############################################################################\n",
    "\n",
    "    return adv_inputs.detach()\n",
    "\n",
    "def eval_on_test_set_adv(model, eps):\n",
    "    model.eval()\n",
    "    running_error = 0\n",
    "\n",
    "    for data in test_loader:\n",
    "        \n",
    "        ##############################################################################\n",
    "        # TODO: Implement the evaluation process on test set.                        #\n",
    "        ##############################################################################\n",
    "\n",
    "        # Load inputs and labels and deploy to running device\n",
    "        data[0] = data[0].to(device)\n",
    "        data[1] = data[1].to(device)\n",
    "        # Get the adv_im using generate_adv_image_batch.\n",
    "        adv_im = generate_adv_image_batch(model, data[0], data[1], eps)\n",
    "        outputs = model(adv_im)\n",
    "        # Compute the error made on this batch and add it to the running error\n",
    "        _, predicted = torch.max(outputs, 1)\n",
    "        running_error += (predicted != data[1]).sum().item()\n",
    "        ##############################################################################\n",
    "        #                             END OF YOUR CODE                               #\n",
    "        ##############################################################################\n",
    "        \n",
    "    total_error = running_error / test_size\n",
    "    print('error rate on test set = {:.2f}%'.format(total_error * 100))\n",
    "    \n",
    "eps_list = [0.01, 0.03, 0.07]\n",
    "for item in eps_list:\n",
    "    eval_on_test_set_adv(model, item)"
   ]
  },
  {
   "cell_type": "markdown",
   "metadata": {},
   "source": [
    "---\n",
    "\n",
    "**Write your observations and analysis in this Markdown cell:**\n",
    "Targeted Adversarial attack works pretty well because the images are misclassified desirably according to the classes I want. The larger the epsilon value inside the clamp, the better is the misclassification. Also adding more iterations can help with the effect of the targeted adversarial attack.\n",
    "\n",
    "\n",
    "For the second cell, I try to show the effect of epsilon value on the adversarial attack. It has shown that the larger the epsilon value, the higher the error rate on test set. This is because epsilon bounds the total number of pixels in x' that can be modified with respect to x. So higher epsilon will result in more pixels in x' to be modified with respect to x.\n",
    "\n",
    "---"
   ]
  }
 ],
 "metadata": {
  "colab": {
   "authorship_tag": "ABX9TyOiGAEyrLouABUtwQJCuSVY",
   "collapsed_sections": [],
   "mount_file_id": "1RRQ5TRoQBriWBEcJUVwxfoEuXjE-HaL7",
   "name": "EE5934_Project1.ipynb",
   "provenance": [],
   "toc_visible": true
  },
  "kernelspec": {
   "display_name": "Python 3",
   "language": "python",
   "name": "python3"
  },
  "language_info": {
   "codemirror_mode": {
    "name": "ipython",
    "version": 3
   },
   "file_extension": ".py",
   "mimetype": "text/x-python",
   "name": "python",
   "nbconvert_exporter": "python",
   "pygments_lexer": "ipython3",
   "version": "3.8.8"
  }
 },
 "nbformat": 4,
 "nbformat_minor": 1
}
