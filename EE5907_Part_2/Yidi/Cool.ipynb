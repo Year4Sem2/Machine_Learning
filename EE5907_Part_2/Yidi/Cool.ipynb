{
 "cells": [
  {
   "cell_type": "code",
   "execution_count": 1,
   "id": "9e81aa9e",
   "metadata": {},
   "outputs": [],
   "source": [
    "from PIL import Image\n",
    "import glob\n",
    "import os\n",
    "import numpy as np\n",
    "import random"
   ]
  },
  {
   "cell_type": "code",
   "execution_count": 2,
   "id": "893f4990",
   "metadata": {},
   "outputs": [
    {
     "name": "stdout",
     "output_type": "stream",
     "text": [
      "['1.JPG', '10.JPG', '2.JPG', '3.JPG', '4.JPG', '5.JPG', '6.JPG', '7.JPG', '8.JPG', '9.JPG']\n"
     ]
    }
   ],
   "source": [
    "lst_imgs = [i for i in glob.glob(\"*.jpg\")]\n",
    "print(lst_imgs)"
   ]
  },
  {
   "cell_type": "code",
   "execution_count": 3,
   "id": "42d4e552",
   "metadata": {},
   "outputs": [
    {
     "name": "stdout",
     "output_type": "stream",
     "text": [
      "Done\n"
     ]
    }
   ],
   "source": [
    "if not \"Yidi_Grey\" in os.listdir():\n",
    "    os.mkdir(\"Yidi_Grey\")\n",
    "    \n",
    "for i in lst_imgs:\n",
    "    img = Image.open(i)\n",
    "    img = img.convert('L').resize((32,32))\n",
    "    img.save(\"Yidi_Grey\\\\\" + i[:-4] + \"_grey.jpg\")\n",
    "    \n",
    "print(\"Done\")\n",
    "os.startfile(\"Yidi_Grey\")"
   ]
  },
  {
   "cell_type": "code",
   "execution_count": null,
   "id": "099d73c2",
   "metadata": {},
   "outputs": [],
   "source": []
  }
 ],
 "metadata": {
  "kernelspec": {
   "display_name": "Python 3",
   "language": "python",
   "name": "python3"
  },
  "language_info": {
   "codemirror_mode": {
    "name": "ipython",
    "version": 3
   },
   "file_extension": ".py",
   "mimetype": "text/x-python",
   "name": "python",
   "nbconvert_exporter": "python",
   "pygments_lexer": "ipython3",
   "version": "3.8.8"
  }
 },
 "nbformat": 4,
 "nbformat_minor": 5
}
